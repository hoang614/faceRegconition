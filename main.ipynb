{
 "cells": [
  {
   "cell_type": "markdown",
   "metadata": {},
   "source": [
    "### 1. Import thư viện"
   ]
  },
  {
   "cell_type": "code",
   "execution_count": 18,
   "metadata": {},
   "outputs": [],
   "source": [
    "import cv2\n",
    "import os\n",
    "import glob\n",
    "import random\n",
    "import numpy as np\n",
    "from random import shuffle\n",
    "from tqdm import tqdm\n",
    "from sklearn.model_selection import train_test_split\n",
    "import tensorflow as tf\n",
    "from tensorflow.keras.models import Sequential\n",
    "from tensorflow.keras.layers import Conv2D, MaxPooling2D, Dense, Dropout, Flatten"
   ]
  },
  {
   "cell_type": "markdown",
   "metadata": {},
   "source": [
    "### 2.Trích xuất và xử lý khuôn mặt từ video"
   ]
  },
  {
   "cell_type": "markdown",
   "metadata": {},
   "source": [
    "##### Hàm extract_frames_from_video\n",
    "Hàm này trích xuất các khung hình từ video, phát hiện khuôn mặt bằng haarcascade_frontalface_default.xml, và lưu ảnh khuôn mặt đã cắt vào thư mục đầu ra."
   ]
  },
  {
   "cell_type": "code",
   "execution_count": null,
   "metadata": {},
   "outputs": [],
   "source": [
    "def extract_frames_from_video(video_path, output_dir, num_frames=200):\n",
    "    # Tạo thư mục lưu khung hình nếu chưa tồn tại\n",
    "    if not os.path.exists(output_dir):\n",
    "        os.makedirs(output_dir)\n",
    "    \n",
    "    # Load bộ phân loại khuôn mặt từ file XML\n",
    "    face_classifier = cv2.CascadeClassifier(\"haarcascade_frontalface_default.xml\")\n",
    "    \n",
    "    # Hàm cắt khuôn mặt từ ảnh\n",
    "    def face_cropped(img):\n",
    "        gray = cv2.cvtColor(img, cv2.COLOR_BGR2GRAY)\n",
    "        faces = face_classifier.detectMultiScale(gray, 1.3, 5)\n",
    "        \n",
    "        if len(faces) == 0:\n",
    "            return None\n",
    "        for (x, y, w, h) in faces:\n",
    "            cropped_face = img[y:y+h, x:x+w]\n",
    "            return cropped_face\n",
    "    \n",
    "    vidcap = cv2.VideoCapture(video_path)\n",
    "    if not vidcap.isOpened():\n",
    "        print(f\"Không thể mở video: {video_path}\")\n",
    "        return\n",
    "    \n",
    "    # Đếm tổng số khung hình trong video\n",
    "    total_frames = int(vidcap.get(cv2.CAP_PROP_FRAME_COUNT))\n",
    "    if total_frames == 0:\n",
    "        print(f\"Video {video_path} không có khung hình nào.\")\n",
    "        vidcap.release()\n",
    "        return\n",
    "    \n",
    "    # Tính bước nhảy (step) để lấy đều num_frames khung hình\n",
    "    step = max(1, total_frames // num_frames)  # Đảm bảo step ít nhất là 1\n",
    "    frame_indices = [i * step for i in range(num_frames) if i * step < total_frames]\n",
    "    \n",
    "    # Tạo các chỉ mục ngẫu nhiên\n",
    "    random_indices = random.sample(range(200), len(frame_indices))\n",
    "    \n",
    "    # Trích xuất, cắt khuôn mặt và lưu\n",
    "    count = 0\n",
    "    for idx, random_idx in zip(frame_indices, random_indices):\n",
    "        # Đặt con trỏ video đến khung hình cần lấy\n",
    "        vidcap.set(cv2.CAP_PROP_POS_FRAMES, idx)\n",
    "        success, image = vidcap.read()\n",
    "        if not success:\n",
    "            print(f\"Không thể đọc khung hình {idx} từ video {video_path}\")\n",
    "            continue\n",
    "        \n",
    "        # Xoay ảnh nếu cần\n",
    "        image = cv2.rotate(image, cv2.ROTATE_90_COUNTERCLOCKWISE)\n",
    "        \n",
    "        # Cắt khuôn mặt\n",
    "        cropped_face = face_cropped(image)\n",
    "        if cropped_face is not None:\n",
    "            # Resize khuôn mặt về kích thước cố định\n",
    "            face = cv2.resize(cropped_face, (200, 200))\n",
    "            # Chuyển sang grayscale \n",
    "            face = cv2.cvtColor(face, cv2.COLOR_BGR2GRAY)\n",
    "            \n",
    "            # Lưu khuôn mặt với chỉ mục ngẫu nhiên\n",
    "            frame_path = os.path.join(output_dir, f\"face_{random_idx}.jpg\")\n",
    "            cv2.imwrite(frame_path, face)\n",
    "            count += 1\n",
    "    \n",
    "    # Giải phóng video\n",
    "    vidcap.release()\n",
    "    print(f\"Đã trích xuất và lưu {count} khuôn mặt từ video {video_path} vào {output_dir}\")\n",
    "\n"
   ]
  },
  {
   "cell_type": "markdown",
   "metadata": {},
   "source": [
    "##### Hàm process_videos_in_directory\n",
    "Hàm này duyệt qua tất cả file video trong thư mục video_dir, gọi extract_frames_from_video để xử lý từng video và lưu kết quả vào các thư mục con trong training_data_dir."
   ]
  },
  {
   "cell_type": "code",
   "execution_count": null,
   "metadata": {},
   "outputs": [],
   "source": [
    "def process_videos_in_directory(video_dir, training_data_dir, num_frames=1):\n",
    "    # Tạo thư mục training_data nếu chưa tồn tại\n",
    "    if not os.path.exists(training_data_dir):\n",
    "        os.makedirs(training_data_dir)\n",
    "    \n",
    "    # Duyệt qua tất cả các file video trong thư mục video_dir\n",
    "    video_paths = glob.glob(os.path.join(video_dir, \"*.mp4\")) \n",
    "    for video_path in video_paths:\n",
    "        video_name = os.path.splitext(os.path.basename(video_path))[0]\n",
    "        output_dir = os.path.join(training_data_dir, video_name)\n",
    "        \n",
    "        # Trích xuất khung hình, cắt khuôn mặt và lưu vào thư mục con\n",
    "        extract_frames_from_video(video_path, output_dir, num_frames)\n",
    "\n"
   ]
  },
  {
   "cell_type": "code",
   "execution_count": null,
   "metadata": {},
   "outputs": [],
   "source": [
    "video_dir = \"video\"  # Thư mục chứa các video\n",
    "training_data_dir = \"training_data\"  # Thư mục lưu dữ liệu huấn luyện\n",
    "process_videos_in_directory(video_dir, training_data_dir, num_frames=200)"
   ]
  },
  {
   "cell_type": "markdown",
   "metadata": {},
   "source": [
    "### 3. Tạo nhãn\n",
    "Gán nhãn (label) dưới dạng vector one-hot cho ảnh dựa trên tên thư mục chứa ảnh."
   ]
  },
  {
   "cell_type": "code",
   "execution_count": 13,
   "metadata": {},
   "outputs": [],
   "source": [
    "def my_label(image_name):\n",
    "    name = os.path.basename(os.path.dirname(image_name))\n",
    "    labels = {\n",
    "        \"ctt\": np.array([1, 0, 0]),\n",
    "        \"hoang\": np.array([0, 1, 0]),\n",
    "        \"kmt\": np.array([0, 0, 1])\n",
    "    }\n",
    "    return labels.get(name, None)"
   ]
  },
  {
   "cell_type": "markdown",
   "metadata": {},
   "source": [
    "### 4. Tạo data\n",
    "Chuẩn bị dữ liệu huấn luyện và kiểm tra"
   ]
  },
  {
   "cell_type": "code",
   "execution_count": null,
   "metadata": {},
   "outputs": [],
   "source": [
    "def my_data(base_dir=\"training_data\"):\n",
    "    data = []\n",
    "    for person_dir in tqdm(os.listdir(base_dir)):\n",
    "        person_path = os.path.join(base_dir, person_dir)\n",
    "        if os.path.isdir(person_path):\n",
    "            for img in os.listdir(person_path):\n",
    "                path = os.path.join(person_path, img)\n",
    "                img_data = cv2.imread(path, cv2.IMREAD_GRAYSCALE)\n",
    "                if img_data is None:\n",
    "                    continue\n",
    "                img_data = cv2.resize(img_data, (50, 50))\n",
    "                data.append([np.array(img_data), my_label(path)])\n",
    "    shuffle(data)  # Xáo trộn dữ liệu\n",
    "    return data\n",
    "\n"
   ]
  },
  {
   "cell_type": "markdown",
   "metadata": {},
   "source": [
    "Chia dữ liệu thành tập train/test, và định dạng dữ liệu cho mô hình CNN"
   ]
  },
  {
   "cell_type": "code",
   "execution_count": null,
   "metadata": {},
   "outputs": [],
   "source": [
    "# Tạo dữ liệu\n",
    "data = my_data()\n",
    "\n",
    "# Chia tập train và test bằng train_test_split\n",
    "train, test = train_test_split(data, test_size=0.2, random_state=42)\n",
    "\n",
    "X_train = np.array([i[0] for i in train]).reshape(-1, 50, 50, 1)\n",
    "print(\"X_train shape:\", X_train.shape)\n",
    "y_train = np.array([i[1] for i in train])  # Chuyển thành numpy array\n",
    "\n",
    "X_test = np.array([i[0] for i in test]).reshape(-1, 50, 50, 1)\n",
    "print(\"X_test shape:\", X_test.shape)\n",
    "y_test = np.array([i[1] for i in test])  # Chuyển thành numpy array"
   ]
  },
  {
   "cell_type": "markdown",
   "metadata": {},
   "source": [
    "### 4. Định nghĩa và huấn luyện mô hình CNN\n",
    "Định nghĩa một mô hình Convolutional Neural Network (CNN) bằng Keras, biên dịch mô hình, và huấn luyện nó trên dữ liệu X_train, y_train, với tập kiểm tra X_test, y_test."
   ]
  },
  {
   "cell_type": "code",
   "execution_count": null,
   "metadata": {},
   "outputs": [],
   "source": [
    "model = Sequential()\n",
    "\n",
    "# Lớp tích chập và pooling\n",
    "model.add(Conv2D(32, (3, 3), activation='relu', input_shape=(50, 50, 1), padding='same'))\n",
    "model.add(MaxPooling2D((2, 2)))  # Giảm từ 50x50 -> 25x25\n",
    "\n",
    "model.add(Conv2D(64, (3, 3), activation='relu', padding='same'))\n",
    "model.add(MaxPooling2D((2, 2)))  # Giảm từ 25x25 -> 12x12\n",
    "\n",
    "model.add(Conv2D(128, (3, 3), activation='relu', padding='same'))\n",
    "model.add(MaxPooling2D((2, 2)))  # Giảm từ 12x12 -> 6x6\n",
    "\n",
    "# Làm phẳng và fully connected\n",
    "model.add(Flatten())  # 6x6x128 = 4608\n",
    "model.add(Dense(512, activation='relu'))\n",
    "model.add(Dropout(0.5))\n",
    "model.add(Dense(3, activation='softmax'))  # 3 lớp đầu ra\n",
    "\n",
    "# Biên dịch mô hình\n",
    "model.compile(optimizer='adam', \n",
    "              loss='categorical_crossentropy', \n",
    "              metrics=['accuracy'])\n",
    "\n",
    "# In tóm tắt mô hình\n",
    "model.summary()\n",
    "\n",
    "# Huấn luyện mô hình\n",
    "model.fit(X_train, y_train, \n",
    "          epochs=12, \n",
    "          validation_data=(X_test, y_test), \n",
    "          verbose=1)"
   ]
  },
  {
   "cell_type": "markdown",
   "metadata": {},
   "source": [
    "### 5. Trực quan dữ liệu và dự đoán"
   ]
  },
  {
   "cell_type": "markdown",
   "metadata": {},
   "source": [
    "Chuẩn bị dữ liệu để dự đoán"
   ]
  },
  {
   "cell_type": "code",
   "execution_count": 40,
   "metadata": {},
   "outputs": [],
   "source": [
    "def data_for_visualization(base_dir=\"training_data\"):\n",
    "    Vdata = []\n",
    "    for person_dir in tqdm(os.listdir(base_dir)):\n",
    "        person_path = os.path.join(base_dir, person_dir)\n",
    "        if os.path.isdir(person_path):\n",
    "            for img in os.listdir(person_path):\n",
    "                path = os.path.join(person_path, img)\n",
    "                img_data = cv2.imread(path, cv2.IMREAD_GRAYSCALE)\n",
    "                if img_data is None:\n",
    "                    continue\n",
    "                img_data = cv2.resize(img_data, (50, 50))\n",
    "                label = my_label(path)\n",
    "                if label is not None:\n",
    "                    Vdata.append([np.array(img_data), label])\n",
    "    random.shuffle(Vdata)\n",
    "    return Vdata"
   ]
  },
  {
   "cell_type": "markdown",
   "metadata": {},
   "source": [
    "#### Dự đoán và hiển thị kết quả trên dữ liệu Visualization\n",
    "Chuẩn bị dữ liệu ảnh (X_vis) và nhãn (y_vis), sau đó dùng mô hình đã huấn luyện để dự đoán và hiển thị kết quả so sánh giữa nhãn dự đoán và nhãn thực tế."
   ]
  },
  {
   "cell_type": "code",
   "execution_count": null,
   "metadata": {},
   "outputs": [],
   "source": [
    "Vdata = data_for_visualization()\n",
    "X_vis = np.array([i[0] for i in Vdata]).reshape(-1, 50, 50, 1)\n",
    "print(\"X_vis shape:\", X_vis.shape)\n",
    "y_vis = np.array([i[1] for i in Vdata])\n",
    "predictions = model.predict(X_vis)\n",
    "for i, pred in enumerate(predictions):\n",
    "    label_idx = np.argmax(pred)\n",
    "    label_name = ['ctt', 'hoang', 'kmt'][label_idx]\n",
    "    true_label_idx = np.argmax(y_vis[i])\n",
    "    true_label_name = ['ctt', 'hoang', 'kmt'][true_label_idx]\n",
    "    print(f\"Ảnh {i+1}: Dự đoán = {label_name} ({pred[label_idx]:.4f}), Thực tế = {true_label_name}\")"
   ]
  },
  {
   "cell_type": "markdown",
   "metadata": {},
   "source": [
    "## 6. Kết luận\n",
    "Dự án này dùng để đánh giá một hệ thống nhận diện khuôn mặt dựa trên mạng nơ-ron tích chập (CNN) sử dụng Python và các thư viện như OpenCV, NumPy, và TensorFlow/Keras."
   ]
  }
 ],
 "metadata": {
  "kernelspec": {
   "display_name": "python_3",
   "language": "python",
   "name": "python3"
  },
  "language_info": {
   "codemirror_mode": {
    "name": "ipython",
    "version": 3
   },
   "file_extension": ".py",
   "mimetype": "text/x-python",
   "name": "python",
   "nbconvert_exporter": "python",
   "pygments_lexer": "ipython3",
   "version": "3.11.5"
  }
 },
 "nbformat": 4,
 "nbformat_minor": 2
}
